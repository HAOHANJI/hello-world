{
  "nbformat": 4,
  "nbformat_minor": 0,
  "metadata": {
    "colab": {
      "name": "hello-world.ipynb",
      "provenance": [],
      "authorship_tag": "ABX9TyMl/YsLWhPezU9XN6n4eXyQ",
      "include_colab_link": true
    },
    "kernelspec": {
      "name": "python3",
      "display_name": "Python 3"
    },
    "language_info": {
      "name": "python"
    }
  },
  "cells": [
    {
      "cell_type": "markdown",
      "metadata": {
        "id": "view-in-github",
        "colab_type": "text"
      },
      "source": [
        "<a href=\"https://colab.research.google.com/github/HAOHANJI/hello-world/blob/main/hello_world.ipynb\" target=\"_parent\"><img src=\"https://colab.research.google.com/assets/colab-badge.svg\" alt=\"Open In Colab\"/></a>"
      ]
    },
    {
      "cell_type": "markdown",
      "metadata": {
        "id": "n2xaFJ1aeIqI"
      },
      "source": [
        "# This is my first google colab file."
      ]
    },
    {
      "cell_type": "code",
      "metadata": {
        "id": "H_18fJk-doyH"
      },
      "source": [
        "def hello():\n",
        "  print(\"Hello world!!\")"
      ],
      "execution_count": null,
      "outputs": []
    },
    {
      "cell_type": "code",
      "metadata": {
        "colab": {
          "base_uri": "https://localhost:8080/"
        },
        "id": "Gxi9oMk3eC1V",
        "outputId": "bbe8c2c9-5045-4ed8-a98f-4fbb3c35b066"
      },
      "source": [
        "hello()"
      ],
      "execution_count": null,
      "outputs": [
        {
          "output_type": "stream",
          "name": "stdout",
          "text": [
            "Hello world!!\n"
          ]
        }
      ]
    }
  ]
}